{
 "cells": [
  {
   "cell_type": "code",
   "execution_count": 1,
   "metadata": {
    "collapsed": true
   },
   "outputs": [],
   "source": [
    "import sys\n",
    "import csv\n",
    "import string\n",
    "import os"
   ]
  },
  {
   "cell_type": "code",
   "execution_count": 2,
   "metadata": {
    "collapsed": true
   },
   "outputs": [],
   "source": [
    "in_f = 'out_from_git.csv/AV/wiki_00'\n",
    "out_f = 'test_out.txt'"
   ]
  },
  {
   "cell_type": "code",
   "execution_count": 15,
   "metadata": {
    "collapsed": true
   },
   "outputs": [],
   "source": [
    "def is_sentence(row):\n",
    "    if len(row)==0:\n",
    "        return False\n",
    "    elif '<' in row[0]:\n",
    "        return False\n",
    "    else:\n",
    "        return True"
   ]
  },
  {
   "cell_type": "markdown",
   "metadata": {},
   "source": [
    "my_puncation = '!\"#$%&\\'()*+,-/:;<=>?@[\\\\]^_`{|}~–'\n",
    "table = str.maketrans({key: None for key in my_puncation})\n",
    "def rm_puctuation(frag):\n",
    "    return frag.translate(table)\n",
    "\n",
    "period = '.'\n",
    "table_period = str.maketrans({key: None for key in period})\n",
    "def rm_period(frag):\n",
    "    return frag.translate(table_period)"
   ]
  },
  {
   "cell_type": "code",
   "execution_count": 20,
   "metadata": {
    "collapsed": true
   },
   "outputs": [],
   "source": [
    "my_puncation = '!\"#$%&\\'()*+,-/:;<=>?@[\\\\]^_`{|}~–'\n",
    "def rm_puctuation(frag):\n",
    "    return frag.translate(None, my_puncation)\n",
    "\n",
    "period = '.'\n",
    "def rm_period(frag):\n",
    "    return frag.translate(None, period)"
   ]
  },
  {
   "cell_type": "code",
   "execution_count": 18,
   "metadata": {
    "collapsed": true
   },
   "outputs": [],
   "source": [
    "def paragraph_to_sentence(paragraph):\n",
    "    sentence_list = []\n",
    "    this_sentence = []\n",
    "    \n",
    "    stripped_para = rm_puctuation(rm_puctuation(paragraph))\n",
    "        \n",
    "    for word in stripped_para.split():\n",
    "        \n",
    "        if '.' in word:\n",
    "            this_sentence.append(rm_period(word).lower())\n",
    "            sentence_list.append(this_sentence)\n",
    "            this_sentence = []\n",
    "        else:\n",
    "            this_sentence.append(word.lower())\n",
    "            \n",
    "    return sentence_list"
   ]
  },
  {
   "cell_type": "markdown",
   "metadata": {},
   "source": [
    "## Iterate through all files"
   ]
  },
  {
   "cell_type": "code",
   "execution_count": 2,
   "metadata": {
    "collapsed": true
   },
   "outputs": [],
   "source": [
    "def get_immediate_subdirectories(a_dir):\n",
    "    return [name for name in os.listdir(a_dir)] # if os.path.isdir(os.path.join(a_dir, name))]"
   ]
  },
  {
   "cell_type": "code",
   "execution_count": 16,
   "metadata": {},
   "outputs": [
    {
     "data": {
      "text/plain": [
       "u'/homes/tam66/Documents/lent/adv_ml/wiki'"
      ]
     },
     "execution_count": 16,
     "metadata": {},
     "output_type": "execute_result"
    }
   ],
   "source": [
    "pwd"
   ]
  },
  {
   "cell_type": "code",
   "execution_count": 6,
   "metadata": {
    "collapsed": true
   },
   "outputs": [],
   "source": [
    "sub_list = []\n",
    "csv_dir = '/Users/tyler/Desktop/lent/advanced_ml/wiki/from_server/out_from_git.csv'\n",
    "csv_dir = '/homes/tam66/Documents/lent/adv_ml/wiki/out_from_git.csv'\n",
    "subfolders_1 = get_immediate_subdirectories(csv_dir)\n",
    "for name in subfolders_1:\n",
    "    new_dir = os.path.join(csv_dir, name)\n",
    "    subfolders_2 = get_immediate_subdirectories(new_dir)\n",
    "    for name_2 in subfolders_2:\n",
    "        final_dir = os.path.join(new_dir, name_2)\n",
    "        sub_list.append(final_dir)"
   ]
  },
  {
   "cell_type": "code",
   "execution_count": 10,
   "metadata": {},
   "outputs": [
    {
     "data": {
      "text/plain": [
       "12878"
      ]
     },
     "execution_count": 10,
     "metadata": {},
     "output_type": "execute_result"
    }
   ],
   "source": [
    "len(sub_list)"
   ]
  },
  {
   "cell_type": "code",
   "execution_count": 27,
   "metadata": {
    "collapsed": true
   },
   "outputs": [],
   "source": [
    "with open('final.csv', mode='w') as txt:\n",
    "    for sub in sub_list:\n",
    "        with open(sub) as raw:\n",
    "            reader = csv.reader(raw)\n",
    "            i = 0\n",
    "            for row in reader:\n",
    "                sentence_list = []\n",
    "                row_string = ''\n",
    "                for fragment in row:\n",
    "                    row_string += fragment\n",
    "\n",
    "                if is_sentence(row_string):\n",
    "                    sentence_list = paragraph_to_sentence(row_string)\n",
    "\n",
    "                writer = csv.writer(txt, delimiter=',', quotechar='\"', quoting=csv.QUOTE_MINIMAL)\n",
    "                for sentence in sentence_list:\n",
    "                    writer.writerow(sentence)\n",
    "\n",
    "                i += 1\n",
    "                #if i == 10:\n",
    "                #    break\n",
    "            #print(sub)"
   ]
  },
  {
   "cell_type": "code",
   "execution_count": 1,
   "metadata": {},
   "outputs": [
    {
     "name": "stdout",
     "output_type": "stream",
     "text": [
      "anthony,gilbert,the,pen,name,of,lucy,beatrice,malleson,15,february,1899,9,december,1973,was,an,english,crime,writer,who,was,a,cousin,of,actorscreenwriter,miles,malleson\r\n",
      "\n",
      "she,also,wrote,nongenre,fiction,as,anne,meredith,and,published,one,crime,novel,and,an,autobiography,threeapenny,1940,under,the,meredith,name\r\n",
      "\n",
      "she,published,69,crime,novels,51,of,which,featured,her,bestknown,character,arthur,crook\r\n",
      "\n",
      "crook,is,a,vulgar,london,lawyer,totally,and,deliberately,unlike,the,sophisticated,detectives,such,as,lord,peter,wimsey,and,philo,vance,who,dominated,the,mystery,field,when,gilbert,introduced,him\r\n",
      "\n",
      "instead,of,dispassionately,analyzing,a,case,he,usually,enters,it,after,seemingly,damning,evidence,has,built,up,against,his,client,then,conducts,a,noholdsbarred,investigation,of,doubtful,ethics,to,clear,him,or,her\r\n",
      "\n",
      "as,fellow,mystery,author,michael,gilbert,noted,he\r\n",
      "\n",
      "behaved,in,a,way,which,befitted,his,name,and,would,not,have,been,approved,by,the,law,society\r\n",
      "\n",
      "the,first,crook,novel,was,published,in,1936,and,was,immediately,popular\r\n",
      "\n",
      "the,last,crook,novel,was,published,in,1974\r\n",
      "\n",
      "her,novel,the,vanishing,corpse,1941,was,adapted,as,the,film,they,met,in,the,dark,1943,another,novel,the,mouse,who,wouldnt,play,ball,was,filmed,as,candles,at,nine,in,1944,and,her,novel,on,abduction,and,a,faked,identity,the,woman,in,red,which,features,arthur,crook,and,his,assistant,bill,parsons,1941,was,adapted,as,the,1945,film,noir,my,name,is,julia,ross\r\n",
      "\n",
      "youll,be,the,death,of,me,an,october,1963,episode,of,the,alfred,hitchcock,hour,was,adapted,from,gilberts,short,story,the,goldfish,button,in,the,february,1958,ellery,queen,mystery,magazine\r\n",
      "\n"
     ]
    }
   ],
   "source": [
    "i = 0\n",
    "with open('final.csv', mode='r') as txt:\n",
    "    for line in txt:\n",
    "        print(line)\n",
    "        if i == 10:\n",
    "            break\n",
    "        i += 1"
   ]
  },
  {
   "cell_type": "code",
   "execution_count": null,
   "metadata": {
    "collapsed": true
   },
   "outputs": [],
   "source": []
  }
 ],
 "metadata": {
  "kernelspec": {
   "display_name": "Python 2",
   "language": "python",
   "name": "python2"
  },
  "language_info": {
   "codemirror_mode": {
    "name": "ipython",
    "version": 3
   },
   "file_extension": ".py",
   "mimetype": "text/x-python",
   "name": "python",
   "nbconvert_exporter": "python",
   "pygments_lexer": "ipython3",
   "version": "3.6.8"
  }
 },
 "nbformat": 4,
 "nbformat_minor": 2
}
