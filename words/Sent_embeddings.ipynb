{
 "cells": [
  {
   "cell_type": "code",
   "execution_count": 7,
   "metadata": {},
   "outputs": [],
   "source": [
    "from collections import Counter\n",
    "from zipfile import ZipFile\n",
    "from tqdm import tqdm\n",
    "import random as rn\n",
    "import os\n",
    "import requests\n",
    "import os\n",
    "import sys\n",
    "from urllib.request import urlretrieve\n",
    "import numpy as np\n",
    "from nltk import word_tokenize\n",
    "\n",
    "class GloveMatrix(object):\n",
    "    \"\"\"\n",
    "    Downloads and loads GloVe matrix.\n",
    "    \"\"\"\n",
    "    def __init__(self):\n",
    "        self.glove_url = \"http://nlp.stanford.edu/data/glove.6B.zip\"\n",
    "        self.file_name = \"glove.6B.zip\"\n",
    "        self.dest = \"glove.6B\"\n",
    "        self.download_glove()\n",
    "        embedding_index = self.load_matrix()\n",
    "        self.EMBEDDING_DIM = 300\n",
    "        print(\"Done\")\n",
    "        \n",
    "    def download_glove(self):\n",
    "        if not os.path.exists(\"glove.6B/glove.6B.300d.txt\"):\n",
    "            if os.path.exists(self.file_name):\n",
    "                self.unzip_file(self.file_name, self.dest)\n",
    "            else:\n",
    "                urlretrieve(self.glove_url, self.file_name, self.reporthook)\n",
    "                self.unzip_file(self.file_name, self.dest)\n",
    "                \n",
    "    def load_matrix(self):       \n",
    "        print(\"Loading embedding matrix\")\n",
    "        self.embedding_index = {}\n",
    "        with open('glove.6B/glove.6B.300d.txt', \"r\") as f:\n",
    "            lines = f.read().split(\"\\n\")\n",
    "            for line in lines:\n",
    "                values = line.split()\n",
    "                if len(values) > 0:\n",
    "                    word = values[0]\n",
    "                    coefs = np.asarray(values[1:], dtype='float32')\n",
    "                    self.embedding_index[word] = coefs\n",
    "\n",
    "    def get_index(self):\n",
    "        return self.embedding_index    \n",
    "\n",
    "    def unzip_file(self, file_name, dest):\n",
    "        print(\"Unzipping file...\")\n",
    "        zipTest = ZipFile(file_name)\n",
    "        zipTest.extractall(dest)\n",
    "\n",
    "    def download_file(self, url, file_name):\n",
    "        print(\"Downloading file...\")\n",
    "        urlretrieve(url, file_name, reporthook)\n",
    "\n",
    "    def reporthook(self, blocknum, blocksize, totalsize):\n",
    "        readsofar = blocknum * blocksize\n",
    "        if totalsize > 0:\n",
    "            percent = readsofar * 1e2 / totalsize\n",
    "            s = \"\\r%5.1f%% %*d / %d\" % (\n",
    "                percent, len(str(totalsize)), readsofar, totalsize)\n",
    "            sys.stderr.write(s)\n",
    "            if readsofar >= totalsize: # near the end\n",
    "                sys.stderr.write(\"\\n\")\n",
    "        else: # total size is unknown\n",
    "            sys.stderr.write(\"read %d\\n\" % (readsofar,))\n",
    "\n",
    "class TextEmbedder(object):\n",
    "    \"\"\"\n",
    "    TextEmbedder returning word embeddings, using given GloVe matrix.\n",
    "    \"\"\"\n",
    "    def __init__(self, glove_matrix):\n",
    "        self.embedding_index = glove_matrix.embedding_index\n",
    "\n",
    "    def get_any(self,word):\n",
    "         return self.embedding_index.get(word, self.embedding_index.get(\"unk\"))"
   ]
  },
  {
   "cell_type": "code",
   "execution_count": 17,
   "metadata": {},
   "outputs": [
    {
     "name": "stdout",
     "output_type": "stream",
     "text": [
      "Loading embedding matrix\n",
      "Done\n"
     ]
    }
   ],
   "source": [
    "gm = GloveMatrix()\n",
    "te = TextEmbedder(gm)"
   ]
  },
  {
   "cell_type": "code",
   "execution_count": 12,
   "metadata": {},
   "outputs": [
    {
     "data": {
      "text/plain": [
       "array([ 0.26688  ,  0.39632  ,  0.6169   , -0.77451  , -0.1039   ,\n",
       "        0.26697  ,  0.2788   ,  0.30992  ,  0.0054685, -0.085256 ,\n",
       "        0.73602  , -0.098432 ,  0.5479   , -0.030305 ,  0.33479  ,\n",
       "        0.14094  , -0.0070003,  0.32569  ,  0.22902  ,  0.46557  ,\n",
       "       -0.19531  ,  0.37491  , -0.7139   , -0.51775  ,  0.77039  ,\n",
       "        1.0881   , -0.66011  , -0.16234  ,  0.9119   ,  0.21046  ,\n",
       "        0.047494 ,  1.0019   ,  1.1133   ,  0.70094  , -0.08696  ,\n",
       "        0.47571  ,  0.1636   , -0.44469  ,  0.4469   , -0.93817  ,\n",
       "        0.013101 ,  0.085964 , -0.67456  ,  0.49662  , -0.037827 ,\n",
       "       -0.11038  , -0.28612  ,  0.074606 , -0.31527  , -0.093774 ,\n",
       "       -0.57069  ,  0.66865  ,  0.45307  , -0.34154  , -0.7166   ,\n",
       "       -0.75273  ,  0.075212 ,  0.57903  , -0.1191   , -0.11379  ,\n",
       "       -0.10026  ,  0.71341  , -1.1574   , -0.74026  ,  0.40452  ,\n",
       "        0.18023  ,  0.21449  ,  0.37638  ,  0.11239  , -0.53639  ,\n",
       "       -0.025092 ,  0.31886  , -0.25013  , -0.63283  , -0.011843 ,\n",
       "        1.377    ,  0.86013  ,  0.20476  , -0.36815  , -0.68874  ,\n",
       "        0.53512  , -0.46556  ,  0.27389  ,  0.4118   , -0.854    ,\n",
       "       -0.046288 ,  0.11304  , -0.27326  ,  0.15636  , -0.20334  ,\n",
       "        0.53586  ,  0.59784  ,  0.60469  ,  0.13735  ,  0.42232  ,\n",
       "       -0.61279  , -0.38486  ,  0.35842  , -0.48464  ,  0.30728  ],\n",
       "      dtype=float32)"
      ]
     },
     "execution_count": 12,
     "metadata": {},
     "output_type": "execute_result"
    }
   ],
   "source": [
    "# getting word embedding for one word\n",
    "te.get_any(\"hello\")"
   ]
  },
  {
   "cell_type": "code",
   "execution_count": 18,
   "metadata": {},
   "outputs": [
    {
     "name": "stdout",
     "output_type": "stream",
     "text": [
      "['this', 'is', 'a', 'sentence']\n"
     ]
    }
   ],
   "source": [
    "#getting tokens in a sentence\n",
    "sent = \"this is a sentence\"\n",
    "doc_clean = sent.lower()\n",
    "tokens = word_tokenize(doc_clean) \n",
    "print(tokens)"
   ]
  },
  {
   "cell_type": "code",
   "execution_count": 15,
   "metadata": {},
   "outputs": [],
   "source": [
    "# gettind sentence embedding\n",
    "embedded_sentence = []\n",
    "for w in tokens:\n",
    "    embedded_sentence.append(te.get_any(w))\n",
    "result = np.vstack(embedded_sentence)"
   ]
  },
  {
   "cell_type": "code",
   "execution_count": 16,
   "metadata": {},
   "outputs": [
    {
     "data": {
      "text/plain": [
       "[array([-0.57058 ,  0.44183 ,  0.70102 , -0.41713 , -0.34058 ,  0.02339 ,\n",
       "        -0.071537,  0.48177 , -0.013121,  0.16834 , -0.13389 ,  0.040626,\n",
       "         0.15827 , -0.44342 , -0.019403, -0.009661, -0.046284,  0.093228,\n",
       "        -0.27331 ,  0.2285  ,  0.33089 , -0.36474 ,  0.078741,  0.3585  ,\n",
       "         0.44757 , -0.2299  ,  0.18077 , -0.6265  ,  0.053852, -0.29154 ,\n",
       "        -0.4256  ,  0.62903 ,  0.14393 , -0.046004, -0.21007 ,  0.48879 ,\n",
       "        -0.057698,  0.37431 , -0.030075, -0.34494 , -0.29702 ,  0.15095 ,\n",
       "         0.28248 , -0.16578 ,  0.076131, -0.093016,  0.79365 , -0.60489 ,\n",
       "        -0.18874 , -1.0173  ,  0.31962 , -0.16344 ,  0.54177 ,  1.1725  ,\n",
       "        -0.47875 , -3.3842  , -0.081301, -0.3528  ,  1.8372  ,  0.44516 ,\n",
       "        -0.52666 ,  0.99786 , -0.32178 ,  0.033462,  1.1783  , -0.072905,\n",
       "         0.39737 ,  0.26166 ,  0.33111 , -0.35629 , -0.16558 , -0.44382 ,\n",
       "        -0.14183 , -0.37976 ,  0.28994 , -0.029114, -0.35169 , -0.27694 ,\n",
       "        -1.344   ,  0.19555 ,  0.16887 ,  0.040237, -0.80212 ,  0.23366 ,\n",
       "        -1.3837  , -0.023132,  0.085395, -0.74051 , -0.073934, -0.58838 ,\n",
       "        -0.085735, -0.10525 , -0.51571 ,  0.15038 , -0.16694 , -0.16372 ,\n",
       "        -0.22702 , -0.66102 ,  0.47197 ,  0.37253 ], dtype=float32),\n",
       " array([-0.54264  ,  0.41476  ,  1.0322   , -0.40244  ,  0.46691  ,\n",
       "         0.21816  , -0.074864 ,  0.47332  ,  0.080996 , -0.22079  ,\n",
       "        -0.12808  , -0.1144   ,  0.50891  ,  0.11568  ,  0.028211 ,\n",
       "        -0.3628   ,  0.43823  ,  0.047511 ,  0.20282  ,  0.49857  ,\n",
       "        -0.10068  ,  0.13269  ,  0.16972  ,  0.11653  ,  0.31355  ,\n",
       "         0.25713  ,  0.092783 , -0.56826  , -0.52975  , -0.051456 ,\n",
       "        -0.67326  ,  0.92533  ,  0.2693   ,  0.22734  ,  0.66365  ,\n",
       "         0.26221  ,  0.19719  ,  0.2609   ,  0.18774  , -0.3454   ,\n",
       "        -0.42635  ,  0.13975  ,  0.56338  , -0.56907  ,  0.12398  ,\n",
       "        -0.12894  ,  0.72484  , -0.26105  , -0.26314  , -0.43605  ,\n",
       "         0.078908 , -0.84146  ,  0.51595  ,  1.3997   , -0.7646   ,\n",
       "        -3.1453   , -0.29202  , -0.31247  ,  1.5129   ,  0.52435  ,\n",
       "         0.21456  ,  0.42452  , -0.088411 , -0.17805  ,  1.1876   ,\n",
       "         0.10579  ,  0.76571  ,  0.21914  ,  0.35824  , -0.11636  ,\n",
       "         0.093261 , -0.62483  , -0.21898  ,  0.21796  ,  0.74056  ,\n",
       "        -0.43735  ,  0.14343  ,  0.14719  , -1.1605   , -0.050508 ,\n",
       "         0.12677  , -0.014395 , -0.98676  , -0.091297 , -1.2054   ,\n",
       "        -0.11974  ,  0.047847 , -0.54001  ,  0.52457  , -0.70963  ,\n",
       "        -0.32528  , -0.1346   , -0.41314  ,  0.33435  , -0.0072412,\n",
       "         0.32253  , -0.044219 , -1.2969   ,  0.76217  ,  0.46349  ],\n",
       "       dtype=float32),\n",
       " array([-0.27086  ,  0.044006 , -0.02026  , -0.17395  ,  0.6444   ,\n",
       "         0.71213  ,  0.3551   ,  0.47138  , -0.29637  ,  0.54427  ,\n",
       "        -0.72294  , -0.0047612,  0.040611 ,  0.043236 ,  0.29729  ,\n",
       "         0.10725  ,  0.40156  , -0.53662  ,  0.033382 ,  0.067396 ,\n",
       "         0.64556  , -0.085523 ,  0.14103  ,  0.094539 ,  0.74947  ,\n",
       "        -0.194    , -0.68739  , -0.41741  , -0.22807  ,  0.12     ,\n",
       "        -0.48999  ,  0.80945  ,  0.045138 , -0.11898  ,  0.20161  ,\n",
       "         0.39276  , -0.20121  ,  0.31354  ,  0.75304  ,  0.25907  ,\n",
       "        -0.11566  , -0.029319 ,  0.93499  , -0.36067  ,  0.5242   ,\n",
       "         0.23706  ,  0.52715  ,  0.22869  , -0.51958  , -0.79349  ,\n",
       "        -0.20368  , -0.50187  ,  0.18748  ,  0.94282  , -0.44834  ,\n",
       "        -3.6792   ,  0.044183 , -0.26751  ,  2.1997   ,  0.241    ,\n",
       "        -0.033425 ,  0.69553  , -0.64472  , -0.0072277,  0.89575  ,\n",
       "         0.20015  ,  0.46493  ,  0.61933  , -0.1066   ,  0.08691  ,\n",
       "        -0.4623   ,  0.18262  , -0.15849  ,  0.020791 ,  0.19373  ,\n",
       "         0.063426 , -0.31673  , -0.48177  , -1.3848   ,  0.13669  ,\n",
       "         0.96859  ,  0.049965 , -0.2738   , -0.035686 , -1.0577   ,\n",
       "        -0.24467  ,  0.90366  , -0.12442  ,  0.080776 , -0.83401  ,\n",
       "         0.57201  ,  0.088945 , -0.42532  , -0.018253 , -0.079995 ,\n",
       "        -0.28581  , -0.01089  , -0.4923   ,  0.63687  ,  0.23642  ],\n",
       "       dtype=float32),\n",
       " array([ 0.6192  ,  0.1465  , -0.085925, -0.26298 ,  0.78439 ,  0.88508 ,\n",
       "        -0.3291  ,  0.49896 , -0.79062 ,  1.0131  , -0.88145 ,  1.3584  ,\n",
       "        -0.66751 ,  0.42515 ,  0.50281 , -0.089359, -0.49863 , -0.83455 ,\n",
       "        -0.74469 ,  0.34275 ,  0.29674 , -0.71928 , -0.16707 ,  0.40454 ,\n",
       "         0.38765 ,  0.62356 , -0.079742, -0.84977 , -0.041216,  0.73005 ,\n",
       "         0.60823 , -0.016954, -0.35062 , -0.76393 , -0.27945 ,  0.35849 ,\n",
       "         0.12919 , -0.63486 ,  0.010818, -0.25926 , -0.35931 , -0.32015 ,\n",
       "         1.2141  , -0.25545 ,  0.35797 ,  0.16637 ,  1.0474  , -1.3668  ,\n",
       "        -0.11174 , -0.13239 ,  0.98993 , -1.1606  ,  0.56178 ,  1.4242  ,\n",
       "        -0.70644 , -0.51683 , -0.087395, -0.62826 ,  1.774   ,  0.58555 ,\n",
       "        -0.13339 , -0.1593  , -0.74275 , -1.0585  ,  0.91011 , -0.49966 ,\n",
       "         0.3968  ,  0.6212  , -1.4312  ,  0.33652 ,  0.22723 ,  0.13312 ,\n",
       "         0.49876 ,  0.34991 ,  0.3235  ,  0.73083 , -0.094294, -0.87917 ,\n",
       "        -0.40376 , -0.40543 ,  0.51081 , -0.51537 , -0.57041 , -0.81079 ,\n",
       "        -1.5331  ,  0.12919 ,  0.088052, -0.73564 ,  0.09653 , -0.35566 ,\n",
       "        -0.25717 , -0.33758 , -0.24789 , -0.2434  ,  0.88116 ,  0.11735 ,\n",
       "         0.5647  , -0.25014 , -0.14849 , -0.30727 ], dtype=float32)]"
      ]
     },
     "execution_count": 16,
     "metadata": {},
     "output_type": "execute_result"
    }
   ],
   "source": [
    "embedded_sentence"
   ]
  },
  {
   "cell_type": "code",
   "execution_count": null,
   "metadata": {},
   "outputs": [],
   "source": []
  }
 ],
 "metadata": {
  "kernelspec": {
   "display_name": "Python 3",
   "language": "python",
   "name": "python3"
  },
  "language_info": {
   "codemirror_mode": {
    "name": "ipython",
    "version": 3
   },
   "file_extension": ".py",
   "mimetype": "text/x-python",
   "name": "python",
   "nbconvert_exporter": "python",
   "pygments_lexer": "ipython3",
   "version": "3.6.8"
  }
 },
 "nbformat": 4,
 "nbformat_minor": 2
}
