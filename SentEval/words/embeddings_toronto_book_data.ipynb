{
 "cells": [
  {
   "cell_type": "code",
   "execution_count": 2,
   "metadata": {},
   "outputs": [],
   "source": [
    "from collections import Counter\n",
    "from tqdm import tqdm\n",
    "import os\n",
    "from os import path\n",
    "import sys\n",
    "import numpy as np\n",
    "import nltk\n",
    "from embeddings2 import GloveMatrix, TextEmbedder\n",
    "import pickle\n",
    "import matplotlib.pyplot as plt\n",
    "from scipy import stats\n",
    "from tqdm import tnrange, tqdm_notebook\n",
    "import json"
   ]
  },
  {
   "cell_type": "code",
   "execution_count": 3,
   "metadata": {},
   "outputs": [
    {
     "name": "stderr",
     "output_type": "stream",
     "text": [
      "[nltk_data] Downloading package punkt to /homes/rgc35/nltk_data...\n",
      "[nltk_data]   Package punkt is already up-to-date!\n"
     ]
    }
   ],
   "source": [
    "nltk.download('punkt');"
   ]
  },
  {
   "cell_type": "code",
   "execution_count": 4,
   "metadata": {},
   "outputs": [
    {
     "name": "stdout",
     "output_type": "stream",
     "text": [
      "Loading embedding matrix\n",
      "Done\n"
     ]
    }
   ],
   "source": [
    "gm = GloveMatrix()\n",
    "te = TextEmbedder(gm)"
   ]
  },
  {
   "cell_type": "markdown",
   "metadata": {},
   "source": [
    "## Sentence Length Statistics"
   ]
  },
  {
   "cell_type": "code",
   "execution_count": 5,
   "metadata": {},
   "outputs": [
    {
     "name": "stderr",
     "output_type": "stream",
     "text": [
      "100%|██████████| 15592/15592 [6:09:12<00:00,  1.10s/it]   \n"
     ]
    }
   ],
   "source": [
    "# This cell loads the book corpus into memory\n",
    "# It needs to be run in order for the further cells to work\n",
    "\n",
    "book_path = \"/homes/rgc35/Desktop/neural-statistician/SentEval/bookcorpus/out_txts\"\n",
    "\n",
    "file_sentence= []\n",
    "tokenized_books = {}\n",
    "\n",
    "for filename in tqdm_notebook(os.listdir(book_path)):\n",
    "    \n",
    "    _filename = path.join(book_path, filename)\n",
    "    with open(_filename, mode='r') as book:\n",
    "\n",
    "        sentences = nltk.tokenize.sent_tokenize(book.read())\n",
    "        \n",
    "        tokenized_books[filename] = [ None ] * len(sentences)\n",
    "        stats = [ None ] * len(sentences)\n",
    "        \n",
    "        for i, sentence in enumerate(sentences):\n",
    "            sentence = nltk.word_tokenize(sentence)\n",
    "            if len(sentence) > 100: continue\n",
    "            stats[i] = len(sentence)\n",
    "            tokenized_books[filename][i] = sentence\n",
    "        \n",
    "        file_sentence += stats        "
   ]
  },
  {
   "cell_type": "code",
   "execution_count": 32,
   "metadata": {},
   "outputs": [],
   "source": [
    "with open('tokenized_books.json', 'w') as fp:\n",
    "    json.dump(tokenized_books, fp)"
   ]
  },
  {
   "cell_type": "code",
   "execution_count": 13,
   "metadata": {},
   "outputs": [
    {
     "name": "stdout",
     "output_type": "stream",
     "text": [
      "66125529\n",
      "65999378\n",
      "Done flattening \n",
      "Done mean and max\n",
      "max_sent_length:100, mean_sent_length:17.822523706208262, mode_sent_length:15.0\n"
     ]
    },
    {
     "data": {
      "text/plain": [
       "(array([19717370., 25240681., 12888202.,  4930634.,  1833515.,   755020.,\n",
       "          331401.,   162750.,    88801.,    51004.]),\n",
       " array([  1. ,  10.9,  20.8,  30.7,  40.6,  50.5,  60.4,  70.3,  80.2,\n",
       "         90.1, 100. ]),\n",
       " <a list of 10 Patch objects>)"
      ]
     },
     "execution_count": 13,
     "metadata": {},
     "output_type": "execute_result"
    },
    {
     "data": {
      "image/png": "[encoded data removed]",
      "text/plain": [
       "<Figure size 432x288 with 1 Axes>"
      ]
     },
     "metadata": {
      "needs_background": "light"
     },
     "output_type": "display_data"
    }
   ],
   "source": [
    "# Some sentence length statistics\n",
    "file_sentence = list(filter(lambda x: x is not None, file_sentence))\n",
    "\n",
    "max_sent_length = np.max(file_sentence)\n",
    "mean_sent_length = np.mean(file_sentence)\n",
    "print(\"Done mean and max\")\n",
    "med_sent_length = np.median(file_sentence)\n",
    "\n",
    "print(f\"max_sent_length:{max_sent_length}, mean_sent_length:{mean_sent_length}, mode_sent_length:{med_sent_length}\")\n",
    "\n",
    "plt.hist(file_sentence)"
   ]
  },
  {
   "cell_type": "markdown",
   "metadata": {},
   "source": [
    "# Pickle Embeddings (Padding to max sent_len)"
   ]
  },
  {
   "cell_type": "code",
   "execution_count": 38,
   "metadata": {},
   "outputs": [],
   "source": [
    "# Requires cell 4 in this notebook to be run once:\n",
    "with open('tokenized_books.json', 'r') as fp:\n",
    "    tokenized_books = json.load(fp)"
   ]
  },
  {
   "cell_type": "code",
   "execution_count": 31,
   "metadata": {},
   "outputs": [
    {
     "data": {
      "application/vnd.jupyter.widget-view+json": {
       "model_id": "88fc361c48594807b144d4ff6c499da6",
       "version_major": 2,
       "version_minor": 0
      },
      "text/plain": [
       "HBox(children=(IntProgress(value=0, max=15592), HTML(value='')))"
      ]
     },
     "metadata": {},
     "output_type": "display_data"
    },
    {
     "ename": "KeyboardInterrupt",
     "evalue": "",
     "output_type": "error",
     "traceback": [
      "\u001b[0;31m---------------------------------------------------------------------------\u001b[0m",
      "\u001b[0;31mKeyboardInterrupt\u001b[0m                         Traceback (most recent call last)",
      "\u001b[0;32m<ipython-input-31-9c86e239c8ad>\u001b[0m in \u001b[0;36m<module>\u001b[0;34m\u001b[0m\n\u001b[1;32m     13\u001b[0m \u001b[0;34m\u001b[0m\u001b[0m\n\u001b[1;32m     14\u001b[0m     \u001b[0;32mwith\u001b[0m \u001b[0mopen\u001b[0m\u001b[0;34m(\u001b[0m\u001b[0mpath\u001b[0m\u001b[0;34m.\u001b[0m\u001b[0mjoin\u001b[0m\u001b[0;34m(\u001b[0m\u001b[0mdata_path\u001b[0m\u001b[0;34m,\u001b[0m \u001b[0mstr\u001b[0m\u001b[0;34m(\u001b[0m\u001b[0mj\u001b[0m\u001b[0;34m)\u001b[0m \u001b[0;34m+\u001b[0m \u001b[0;34m\".pkl\"\u001b[0m\u001b[0;34m)\u001b[0m\u001b[0;34m,\u001b[0m \u001b[0;34m\"wb\"\u001b[0m\u001b[0;34m)\u001b[0m \u001b[0;32mas\u001b[0m \u001b[0mout_file\u001b[0m\u001b[0;34m:\u001b[0m\u001b[0;34m\u001b[0m\u001b[0;34m\u001b[0m\u001b[0m\n\u001b[0;32m---> 15\u001b[0;31m         \u001b[0mpickle\u001b[0m\u001b[0;34m.\u001b[0m\u001b[0mdump\u001b[0m\u001b[0;34m(\u001b[0m\u001b[0mresult\u001b[0m\u001b[0;34m,\u001b[0m \u001b[0mout_file\u001b[0m\u001b[0;34m)\u001b[0m\u001b[0;34m\u001b[0m\u001b[0;34m\u001b[0m\u001b[0m\n\u001b[0m",
      "\u001b[0;31mKeyboardInterrupt\u001b[0m: "
     ]
    }
   ],
   "source": [
    "max_sent_length = 70\n",
    "data_path = \"/homes/rgc35/Desktop/neural-statistician/SentEval/data/bookdata\"\n",
    "book_path = \"/homes/rgc35/Desktop/neural-statistician/SentEval/bookcorpus/out_txts\"\n",
    "\n",
    "for j, (book_name, sentences) in enumerate(tqdm_notebook(tokenized_books.items())):\n",
    "    \n",
    "    if os.isfile(path.join(data_path, str(j) + \".pkl\")): continue\n",
    "\n",
    "    result = np.zeros((len(sentences), max_sent_length, 300))\n",
    "    for i, sentence in enumerate(sentences):\n",
    "        if sentence is None: continue\n",
    "        em_sent = te.get_sentence_embedding(sentence, sent_length=max_sent_length)\n",
    "        result[i,:,:] = em_sent\n",
    "\n",
    "    with open(path.join(data_path, str(j) + \".pkl\"), \"wb\") as out_file:\n",
    "        pickle.dump(result, out_file)"
   ]
  },
  {
   "cell_type": "code",
   "execution_count": 37,
   "metadata": {},
   "outputs": [
    {
     "data": {
      "text/plain": [
       "756261"
      ]
     },
     "execution_count": 37,
     "metadata": {},
     "output_type": "execute_result"
    }
   ],
   "source": [
    "sum(list(map(len, list(tokenized_books.values())[:181])))"
   ]
  }
 ],
 "metadata": {
  "kernelspec": {
   "display_name": "Python 2",
   "language": "python",
   "name": "python2"
  },
  "language_info": {
   "codemirror_mode": {
    "name": "ipython",
    "version": 3
   },
   "file_extension": ".py",
   "mimetype": "text/x-python",
   "name": "python",
   "nbconvert_exporter": "python",
   "pygments_lexer": "ipython3",
   "version": "3.6.8"
  }
 },
 "nbformat": 4,
 "nbformat_minor": 2
}
