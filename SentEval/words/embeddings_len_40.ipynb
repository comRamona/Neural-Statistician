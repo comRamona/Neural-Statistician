{
 "cells": [
  {
   "cell_type": "code",
   "execution_count": 1,
   "metadata": {
    "collapsed": true
   },
   "outputs": [],
   "source": [
    "from collections import Counter\n",
    "from zipfile import ZipFile\n",
    "from tqdm import tqdm\n",
    "import random as rn\n",
    "import os\n",
    "import requests\n",
    "import os\n",
    "import sys\n",
    "from urllib.request import urlretrieve\n",
    "import numpy as np\n",
    "import nltk\n",
    "from nltk import word_tokenize\n",
    "\n",
    "class GloveMatrix(object):\n",
    "    \"\"\"\n",
    "    Downloads and loads GloVe matrix.\n",
    "    \"\"\"\n",
    "    def __init__(self):\n",
    "        self.glove_url = \"http://nlp.stanford.edu/data/glove.6B.zip\"\n",
    "        self.file_name = \"glove.6B.zip\"\n",
    "        self.dest = \"glove.6B\"\n",
    "        self.download_glove()\n",
    "        embedding_index = self.load_matrix()\n",
    "        self.EMBEDDING_DIM = 300\n",
    "        print(\"Done\")\n",
    "        \n",
    "    def download_glove(self):\n",
    "        if not os.path.exists(\"glove.6B/glove.6B.300d.txt\"):\n",
    "            if os.path.exists(self.file_name):\n",
    "                self.unzip_file(self.file_name, self.dest)\n",
    "            else:\n",
    "                urlretrieve(self.glove_url, self.file_name, self.reporthook)\n",
    "                self.unzip_file(self.file_name, self.dest)\n",
    "                \n",
    "    def load_matrix(self):       \n",
    "        print(\"Loading embedding matrix\")\n",
    "        self.embedding_index = {}\n",
    "        with open('glove.6B/glove.6B.300d.txt', \"r\") as f:\n",
    "            lines = f.read().split(\"\\n\")\n",
    "            for line in lines:\n",
    "                values = line.split()\n",
    "                if len(values) > 0:\n",
    "                    word = values[0]\n",
    "                    coefs = np.asarray(values[1:], dtype='float32')\n",
    "                    self.embedding_index[word] = coefs\n",
    "\n",
    "    def get_index(self):\n",
    "        return self.embedding_index    \n",
    "\n",
    "    def unzip_file(self, file_name, dest):\n",
    "        print(\"Unzipping file...\")\n",
    "        zipTest = ZipFile(file_name)\n",
    "        zipTest.extractall(dest)\n",
    "\n",
    "    def download_file(self, url, file_name):\n",
    "        print(\"Downloading file...\")\n",
    "        urlretrieve(url, file_name, reporthook)\n",
    "\n",
    "    def reporthook(self, blocknum, blocksize, totalsize):\n",
    "        readsofar = blocknum * blocksize\n",
    "        if totalsize > 0:\n",
    "            percent = readsofar * 1e2 / totalsize\n",
    "            s = \"\\r%5.1f%% %*d / %d\" % (\n",
    "                percent, len(str(totalsize)), readsofar, totalsize)\n",
    "            sys.stderr.write(s)\n",
    "            if readsofar >= totalsize: # near the end\n",
    "                sys.stderr.write(\"\\n\")\n",
    "        else: # total size is unknown\n",
    "            sys.stderr.write(\"read %d\\n\" % (readsofar,))\n",
    "\n",
    "class TextEmbedder(object):\n",
    "    \"\"\"\n",
    "    TextEmbedder returning word embeddings, using given GloVe matrix.\n",
    "    \"\"\"\n",
    "    def __init__(self, glove_matrix):\n",
    "        self.embedding_index = glove_matrix.embedding_index\n",
    "\n",
    "    def get_any(self,word):\n",
    "         return self.embedding_index.get(word, self.embedding_index.get(\"unk\"))"
   ]
  },
  {
   "cell_type": "code",
   "execution_count": 2,
   "metadata": {
    "collapsed": true
   },
   "outputs": [],
   "source": [
    "import pickle\n",
    "import matplotlib.pyplot as plt\n",
    "import sys\n",
    "import csv\n",
    "import string\n",
    "import time\n",
    "from scipy import stats"
   ]
  },
  {
   "cell_type": "code",
   "execution_count": 3,
   "metadata": {},
   "outputs": [
    {
     "name": "stdout",
     "output_type": "stream",
     "text": [
      "[nltk_data] Downloading package punkt to /homes/tam66/nltk_data...\n",
      "[nltk_data]   Package punkt is already up-to-date!\n"
     ]
    },
    {
     "data": {
      "text/plain": [
       "True"
      ]
     },
     "execution_count": 3,
     "metadata": {},
     "output_type": "execute_result"
    }
   ],
   "source": [
    "nltk.download('punkt')"
   ]
  },
  {
   "cell_type": "code",
   "execution_count": 4,
   "metadata": {},
   "outputs": [
    {
     "name": "stdout",
     "output_type": "stream",
     "text": [
      "Loading embedding matrix\n",
      "Done\n"
     ]
    }
   ],
   "source": [
    "gm = GloveMatrix()\n",
    "te = TextEmbedder(gm)"
   ]
  },
  {
   "cell_type": "code",
   "execution_count": 5,
   "metadata": {},
   "outputs": [
    {
     "data": {
      "text/plain": [
       "300"
      ]
     },
     "execution_count": 5,
     "metadata": {},
     "output_type": "execute_result"
    }
   ],
   "source": [
    "# getting word embedding for one word\n",
    "ex = te.get_any(\"hello\")\n",
    "len(ex)"
   ]
  },
  {
   "cell_type": "code",
   "execution_count": null,
   "metadata": {
    "collapsed": true
   },
   "outputs": [],
   "source": []
  },
  {
   "cell_type": "code",
   "execution_count": 8,
   "metadata": {},
   "outputs": [
    {
     "name": "stdout",
     "output_type": "stream",
     "text": [
      "It took 5e-05 to run\n"
     ]
    }
   ],
   "source": [
    "start_time = time.time()\n",
    "end_time = time.time()\n",
    "duration = end_time - start_time\n",
    "print(f'It took {round(duration,5)} to run')"
   ]
  },
  {
   "cell_type": "code",
   "execution_count": 9,
   "metadata": {},
   "outputs": [
    {
     "name": "stdout",
     "output_type": "stream",
     "text": [
      "['anthony', 'gilbert', 'the', 'pen', 'name', 'of', 'lucy', 'beatrice', 'malleson', '15', 'february', '1899', '9', 'december', '1973', 'was', 'an', 'english', 'crime', 'writer', 'who', 'was', 'a', 'cousin', 'of', 'actorscreenwriter', 'miles', 'malleson']\n",
      "['she', 'also', 'wrote', 'nongenre', 'fiction', 'as', 'anne', 'meredith', 'and', 'published', 'one', 'crime', 'novel', 'and', 'an', 'autobiography', 'threeapenny', '1940', 'under', 'the', 'meredith', 'name']\n",
      "['she', 'published', '69', 'crime', 'novels', '51', 'of', 'which', 'featured', 'her', 'bestknown', 'character', 'arthur', 'crook']\n"
     ]
    }
   ],
   "source": [
    "start_time = time.time()\n",
    "\n",
    "i = 0\n",
    "with open('final.csv', mode='r',encoding = 'ISO-8859-1') as csv_sentences:\n",
    "    sentences = csv.reader(csv_sentences)\n",
    "    for sentence in sentences:\n",
    "        print(sentence)\n",
    "        embedded_sentence = []\n",
    "        \n",
    "        for word in sentence:\n",
    "            embedded_sentence.append(te.get_any(word))\n",
    "            result = np.vstack(embedded_sentence)\n",
    "            \n",
    "        #print (result)\n",
    "        if i == 2:\n",
    "            break\n",
    "        i += 1"
   ]
  },
  {
   "cell_type": "markdown",
   "metadata": {},
   "source": [
    "## Stentence stats"
   ]
  },
  {
   "cell_type": "code",
   "execution_count": 10,
   "metadata": {},
   "outputs": [
    {
     "name": "stdout",
     "output_type": "stream",
     "text": [
      "0\n",
      "100000\n",
      "200000\n",
      "300000\n",
      "400000\n",
      "500000\n",
      "600000\n",
      "700000\n",
      "800000\n",
      "900000\n"
     ]
    }
   ],
   "source": [
    "i = 0\n",
    "array_length = 1e6\n",
    "length = np.zeros(int(array_length))\n",
    "\n",
    "with open('final.csv', mode='r',encoding = 'ISO-8859-1') as csv_sentences:\n",
    "    sentences = csv.reader(csv_sentences)\n",
    "    for sentence in sentences:\n",
    "\n",
    "        length[i] = len(sentence)\n",
    "        \n",
    "        if i % (int(array_length)/10) == 0:\n",
    "            print(i)\n",
    "        if i == int(array_length) - 1:\n",
    "            break\n",
    "        i += 1"
   ]
  },
  {
   "cell_type": "code",
   "execution_count": 11,
   "metadata": {},
   "outputs": [
    {
     "data": {
      "text/plain": [
       "ModeResult(mode=array([ 15.]), count=array([42904]))"
      ]
     },
     "execution_count": 11,
     "metadata": {},
     "output_type": "execute_result"
    }
   ],
   "source": [
    "stats.mode(length)"
   ]
  },
  {
   "cell_type": "code",
   "execution_count": 12,
   "metadata": {},
   "outputs": [
    {
     "data": {
      "text/plain": [
       "19.863333999999998"
      ]
     },
     "execution_count": 12,
     "metadata": {},
     "output_type": "execute_result"
    }
   ],
   "source": [
    "length.mean()"
   ]
  },
  {
   "cell_type": "code",
   "execution_count": 13,
   "metadata": {},
   "outputs": [
    {
     "data": {
      "image/png": "[encoded data removed]",
      "text/plain": [
       "<Figure size 432x288 with 1 Axes>"
      ]
     },
     "metadata": {},
     "output_type": "display_data"
    }
   ],
   "source": [
    "plt.hist(length,bins=100,range=[0,100])\n",
    "plt.axis([0, 100, 0, 5e4])\n",
    "plt.show()"
   ]
  },
  {
   "cell_type": "markdown",
   "metadata": {},
   "source": [
    "## Length-40 embeddings"
   ]
  },
  {
   "cell_type": "code",
   "execution_count": 14,
   "metadata": {
    "collapsed": true
   },
   "outputs": [],
   "source": [
    "result = np.zeros([10,40,300])"
   ]
  },
  {
   "cell_type": "code",
   "execution_count": 15,
   "metadata": {},
   "outputs": [
    {
     "data": {
      "text/plain": [
       "300"
      ]
     },
     "execution_count": 15,
     "metadata": {},
     "output_type": "execute_result"
    }
   ],
   "source": [
    "len(result[0][0])"
   ]
  },
  {
   "cell_type": "code",
   "execution_count": 18,
   "metadata": {},
   "outputs": [
    {
     "name": "stdout",
     "output_type": "stream",
     "text": [
      "/homes/tam66/Documents/lent/adv_ml/wiki\r\n"
     ]
    }
   ],
   "source": [
    "! pwd"
   ]
  },
  {
   "cell_type": "code",
   "execution_count": null,
   "metadata": {
    "collapsed": true
   },
   "outputs": [],
   "source": []
  },
  {
   "cell_type": "code",
   "execution_count": 56,
   "metadata": {},
   "outputs": [
    {
     "name": "stdout",
     "output_type": "stream",
     "text": [
      "0\n",
      "1\n",
      "2\n",
      "3\n",
      "4\n",
      "5\n",
      "6\n",
      "7\n",
      "8\n",
      "9\n",
      "done\n"
     ]
    }
   ],
   "source": [
    "i = 0\n",
    "max_i = 1e4\n",
    "num_files = 10\n",
    "\n",
    "k = 0\n",
    "path = '/homes/tam66/Documents/lent/adv_ml/wiki/embeddings/'\n",
    "this_path = path + str(k) + '.pkl'\n",
    "out_file = open(this_path, 'wb') \n",
    "\n",
    "result = np.zeros([int(max_i),40,300])\n",
    "\n",
    "with open('final.csv', mode='r',encoding = 'ISO-8859-1') as csv_sentences:\n",
    "    sentences = csv.reader(csv_sentences)\n",
    "    for sentence in sentences:\n",
    "\n",
    "        # truncate to 40 words if longer\n",
    "        if len(sentence) > 40:\n",
    "            sentence = sentence[:40]\n",
    "\n",
    "        # write zero vector to result if the sentence ends before 40\n",
    "        for j in range(40):\n",
    "            try:\n",
    "                result[i][j] = te.get_any(sentence[j])\n",
    "            except:\n",
    "                result[i][j] = np.zeros(300)\n",
    "            j += 1\n",
    "\n",
    "        i += 1\n",
    "        \n",
    "        #if i % 1e3 == 0:\n",
    "        #    print(i)\n",
    "        \n",
    "        if i == max_i:\n",
    "            pickle.dump(result, out_file)\n",
    "            out_file.close()\n",
    "            print(k)\n",
    "            k += 1\n",
    "            if k < num_files:\n",
    "                this_path = path + str(k) + '.pkl'\n",
    "                out_file = open(this_path, 'wb') \n",
    "                result = np.zeros([int(max_i),40,300])\n",
    "            else:\n",
    "                print('done')\n",
    "                break\n",
    "            i = 0\n",
    " "
   ]
  },
  {
   "cell_type": "code",
   "execution_count": 57,
   "metadata": {
    "collapsed": true
   },
   "outputs": [],
   "source": [
    "from sys import getsizeof"
   ]
  },
  {
   "cell_type": "code",
   "execution_count": 59,
   "metadata": {},
   "outputs": [
    {
     "data": {
      "text/plain": [
       "0.960000128"
      ]
     },
     "execution_count": 59,
     "metadata": {},
     "output_type": "execute_result"
    }
   ],
   "source": [
    "getsizeof(result) / 1e9"
   ]
  },
  {
   "cell_type": "code",
   "execution_count": 39,
   "metadata": {},
   "outputs": [
    {
     "data": {
      "text/plain": [
       "1000000"
      ]
     },
     "execution_count": 39,
     "metadata": {},
     "output_type": "execute_result"
    }
   ],
   "source": [
    "len(result)"
   ]
  },
  {
   "cell_type": "code",
   "execution_count": 36,
   "metadata": {},
   "outputs": [
    {
     "data": {
      "text/plain": [
       "1"
      ]
     },
     "execution_count": 36,
     "metadata": {},
     "output_type": "execute_result"
    }
   ],
   "source": [
    "k"
   ]
  },
  {
   "cell_type": "code",
   "execution_count": 45,
   "metadata": {},
   "outputs": [
    {
     "data": {
      "text/plain": [
       "0.0024874999653548002"
      ]
     },
     "execution_count": 45,
     "metadata": {},
     "output_type": "execute_result"
    }
   ],
   "source": [
    "results[0][0][0]"
   ]
  },
  {
   "cell_type": "code",
   "execution_count": 46,
   "metadata": {},
   "outputs": [
    {
     "data": {
      "text/plain": [
       "10"
      ]
     },
     "execution_count": 46,
     "metadata": {},
     "output_type": "execute_result"
    }
   ],
   "source": [
    "len(results)"
   ]
  },
  {
   "cell_type": "code",
   "execution_count": 63,
   "metadata": {},
   "outputs": [],
   "source": [
    "k = 2\n",
    "path = '/homes/tam66/Documents/lent/adv_ml/wiki/embeddings/'\n",
    "this_path = path + str(k) + '.pkl'\n",
    "data = pickle.load(open(this_path,'rb'))"
   ]
  },
  {
   "cell_type": "code",
   "execution_count": 67,
   "metadata": {},
   "outputs": [
    {
     "data": {
      "text/plain": [
       "300"
      ]
     },
     "execution_count": 67,
     "metadata": {},
     "output_type": "execute_result"
    }
   ],
   "source": [
    "len(data[0][0])"
   ]
  },
  {
   "cell_type": "code",
   "execution_count": 74,
   "metadata": {},
   "outputs": [
    {
     "data": {
      "text/plain": [
       "array([-0.12888999, -0.64595002,  0.41049001, -0.058506  ,  0.22505   ,\n",
       "       -0.58323997,  0.56036001,  0.18669   ,  0.75523001,  0.078054  ,\n",
       "       -0.20029999,  0.096644  , -0.22208001, -0.23299   ,  0.31848001,\n",
       "        0.10687   , -0.39561999, -0.49674001, -0.017072  ,  0.049282  ,\n",
       "       -0.041442  , -0.02056   ,  0.31292   ,  0.15335   , -0.54505998,\n",
       "        0.45374   , -0.31419   ,  0.21009   ,  0.16415   ,  0.57090998,\n",
       "        0.24864   ,  0.39919001,  0.23466   ,  0.51599997, -1.1789    ,\n",
       "        0.50709999, -0.34211001,  0.03859   , -0.51209003, -0.51617002,\n",
       "       -0.25312001,  0.42034   , -0.41055   ,  0.068451  ,  0.42642999,\n",
       "        0.13366   ,  0.29521   ,  0.39919999, -0.2836    , -0.04765   ,\n",
       "       -0.46186   , -0.20874999, -0.36179   , -0.21145999,  0.45943001,\n",
       "       -0.12837   , -0.031208  , -0.18989   ,  0.014506  , -0.56633002,\n",
       "        0.12513   , -0.26820001,  0.30306   ,  0.30724001,  0.66386002,\n",
       "       -0.27034   , -0.10429   , -0.13256   , -0.27869999, -0.73171997,\n",
       "       -0.53398001, -0.3642    , -0.14380001,  0.40323001, -0.31874999,\n",
       "        0.46855   ,  0.15257999, -0.076974  , -0.39311001, -0.71774   ,\n",
       "        0.11141   ,  0.023606  ,  0.22104999, -0.1407    , -0.061511  ,\n",
       "       -0.30943999,  0.33588001,  0.11234   ,  0.43265   , -0.0021653 ,\n",
       "        0.80554003,  0.17172   ,  0.08867   , -0.68809998, -0.34707001,\n",
       "        0.70888001,  0.27258   , -0.036713  , -0.14124   , -0.17664   ,\n",
       "       -0.17351   ,  0.032086  ,  0.29696   ,  0.59516001, -0.75304002,\n",
       "        0.62159002,  0.79584998, -0.084876  ,  0.11503   ,  0.088839  ,\n",
       "       -0.46144   , -0.0042922 ,  0.52225   ,  0.11632   , -0.26148999,\n",
       "        0.23270001, -0.13361999, -0.40720001, -0.81967002, -0.031803  ,\n",
       "       -0.33989999, -0.23810001,  0.71530998, -0.82537001,  0.21658   ,\n",
       "       -0.37163001, -0.066093  , -0.13853   , -0.058561  , -0.24827   ,\n",
       "        0.23264   ,  0.17181   , -0.22157   ,  0.67860001,  0.052284  ,\n",
       "        0.43698001, -0.35813001, -0.16526   , -0.36730999, -0.055547  ,\n",
       "        0.33612001, -0.070421  ,  0.43373999, -0.19080999, -0.63628   ,\n",
       "        0.19126999, -0.17196   , -0.51165003, -0.29043999,  0.21554001,\n",
       "        0.18743999,  0.80386001, -0.42144001, -0.84367001,  0.37055001,\n",
       "       -0.012221  , -0.16666   ,  0.1548    ,  0.018919  , -0.20345999,\n",
       "        0.83210999, -0.19401   ,  0.48778   , -0.68782002, -0.41275999,\n",
       "        0.52534997, -0.51182002,  0.28395   ,  0.26615   ,  0.044523  ,\n",
       "       -0.05919   , -0.32631999,  0.65309   , -0.21089999, -0.21715   ,\n",
       "        0.09497   , -0.28354999, -0.46629   , -0.15136001, -0.74601001,\n",
       "        0.031208  ,  0.1953    , -0.089957  , -0.076458  , -0.070559  ,\n",
       "       -0.58699   , -0.24325   , -0.41286999,  0.40733001,  0.15171   ,\n",
       "       -0.013841  ,  0.092594  , -0.065599  , -0.38385001, -0.033891  ,\n",
       "        0.37529999,  0.086386  , -0.75529999,  0.75282001, -0.26495001,\n",
       "        1.0402    , -0.2377    ,  0.178     , -0.25222   ,  0.40217999,\n",
       "        0.048654  ,  0.33668   , -0.038635  ,  0.22815999,  0.17226   ,\n",
       "       -0.24501   , -0.45359001,  0.022721  , -0.28331   , -0.32196   ,\n",
       "        0.25441   ,  0.036025  ,  0.1513    , -0.014113  , -0.059256  ,\n",
       "        0.212     , -0.36649999, -0.40700001, -0.31007999,  0.51920998,\n",
       "       -0.028566  ,  0.020481  , -0.28297001,  0.066977  ,  0.08588   ,\n",
       "       -0.14774001, -0.17953999, -0.26519999, -0.37351   , -0.0037777 ,\n",
       "        0.17749   ,  0.21239001,  0.54553002, -0.24011   , -0.066804  ,\n",
       "       -0.074248  , -0.13065   ,  0.022113  , -0.34279001, -0.84184003,\n",
       "       -0.097546  , -0.23876999, -0.21184   ,  0.50756001, -0.18707   ,\n",
       "       -0.080627  , -0.068532  , -0.44422999, -0.428     ,  0.55197001,\n",
       "       -0.17813   ,  0.40325999, -0.040812  ,  0.64897001,  0.16351999,\n",
       "       -0.16942   , -0.095566  ,  0.1234    ,  0.11223   , -0.25742999,\n",
       "        0.12041   ,  0.28362   , -0.27764001,  0.18741   , -0.65487999,\n",
       "        0.30491   , -0.20494001, -0.082827  , -0.050207  ,  0.051161  ,\n",
       "        0.18122999, -0.96930999,  0.41613999, -0.53887999,  0.58522999,\n",
       "       -0.058541  , -0.13743   ,  0.34454   , -0.28167   , -0.31646001,\n",
       "        0.098295  ,  0.43632001, -0.63498002, -0.48232999,  0.0074187 ,\n",
       "       -0.18299   ,  0.2606    ,  0.13257   ,  0.24818   ,  0.064745  ,\n",
       "        0.49972999, -0.38826001,  0.32729   ,  0.19602001,  0.082993  ])"
      ]
     },
     "execution_count": 74,
     "metadata": {},
     "output_type": "execute_result"
    }
   ],
   "source": [
    "data[0][12]"
   ]
  },
  {
   "cell_type": "code",
   "execution_count": 15,
   "metadata": {},
   "outputs": [
    {
     "name": "stdout",
     "output_type": "stream",
     "text": [
      "['anthony', 'gilbert', 'the', 'pen', 'name', 'of', 'lucy', 'beatrice', 'malleson', '15', 'february', '1899', '9', 'december', '1973', 'was', 'an', 'english', 'crime', 'writer', 'who', 'was', 'a', 'cousin', 'of', 'actorscreenwriter', 'miles', 'malleson']\n",
      "['she', 'also', 'wrote', 'nongenre', 'fiction', 'as', 'anne', 'meredith', 'and', 'published', 'one', 'crime', 'novel', 'and', 'an', 'autobiography', 'threeapenny', '1940', 'under', 'the', 'meredith', 'name']\n",
      "['she', 'published', '69', 'crime', 'novels', '51', 'of', 'which', 'featured', 'her', 'bestknown', 'character', 'arthur', 'crook']\n",
      "['crook', 'is', 'a', 'vulgar', 'london', 'lawyer', 'totally', 'and', 'deliberately', 'unlike', 'the', 'sophisticated', 'detectives', 'such', 'as', 'lord', 'peter', 'wimsey', 'and', 'philo', 'vance', 'who', 'dominated', 'the', 'mystery', 'field', 'when', 'gilbert', 'introduced', 'him']\n",
      "['instead', 'of', 'dispassionately', 'analyzing', 'a', 'case', 'he', 'usually', 'enters', 'it', 'after', 'seemingly', 'damning', 'evidence', 'has', 'built', 'up', 'against', 'his', 'client', 'then', 'conducts', 'a', 'noholdsbarred', 'investigation', 'of', 'doubtful', 'ethics', 'to', 'clear', 'him', 'or', 'her']\n"
     ]
    }
   ],
   "source": [
    "i = 0\n",
    "with open('final.csv', mode='r',encoding = 'ISO-8859-1') as csv_sentences:\n",
    "    sentences = csv.reader(csv_sentences)\n",
    "    for sentence in sentences:\n",
    "        print(sentence)\n",
    "        i += 1\n",
    "        \n",
    "        if i == 5:\n",
    "            break"
   ]
  }
 ],
 "metadata": {
  "kernelspec": {
   "display_name": "Python 2",
   "language": "python",
   "name": "python2"
  },
  "language_info": {
   "codemirror_mode": {
    "name": "ipython",
    "version": 3
   },
   "file_extension": ".py",
   "mimetype": "text/x-python",
   "name": "python",
   "nbconvert_exporter": "python",
   "pygments_lexer": "ipython3",
   "version": "3.6.8"
  }
 },
 "nbformat": 4,
 "nbformat_minor": 2
}
