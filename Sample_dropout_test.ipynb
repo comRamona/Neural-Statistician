{
 "cells": [
  {
   "cell_type": "code",
   "execution_count": 112,
   "metadata": {},
   "outputs": [],
   "source": [
    "import torch\n",
    "\n",
    "from torch import nn\n",
    "from torch.autograd import Variable\n",
    "from torch.nn import functional as F\n",
    "\n",
    "batch_size = 4\n",
    "sample_size = 10\n",
    "hidden_dim = 5 \n",
    "\n",
    "a = Variable(torch.ones((batch_size, 1, 1)).cuda())\n",
    "p = 0.5 \n",
    "b = Variable(torch.bernoulli(p * torch.ones((batch_size,\n",
    "                                             sample_size - 1, 1)).cuda()))\n",
    "mask = torch.cat([a, b], 1)\n",
    "\n",
    "# zero out samples\n",
    "e = Variable(torch.ones(batch_size, sample_size, hidden_dim)).cuda()\n",
    "e = e * mask.expand_as(e)\n",
    "extra_feature = torch.sum(mask, 1)\n",
    "extra_feature  = extra_feature.repeat(1, sample_size).unsqueeze(2)\n",
    "cc = torch.cat([e, extra_feature], 2)"
   ]
  },
  {
   "cell_type": "code",
   "execution_count": 116,
   "metadata": {},
   "outputs": [
    {
     "data": {
      "text/plain": [
       "tensor([[[ 1.,  1.,  1.,  1.,  1.,  9.],\n",
       "         [ 1.,  1.,  1.,  1.,  1.,  9.],\n",
       "         [ 1.,  1.,  1.,  1.,  1.,  9.],\n",
       "         [ 1.,  1.,  1.,  1.,  1.,  9.],\n",
       "         [ 1.,  1.,  1.,  1.,  1.,  9.],\n",
       "         [ 1.,  1.,  1.,  1.,  1.,  9.],\n",
       "         [ 0.,  0.,  0.,  0.,  0.,  9.],\n",
       "         [ 1.,  1.,  1.,  1.,  1.,  9.],\n",
       "         [ 1.,  1.,  1.,  1.,  1.,  9.],\n",
       "         [ 1.,  1.,  1.,  1.,  1.,  9.]],\n",
       "\n",
       "        [[ 1.,  1.,  1.,  1.,  1.,  8.],\n",
       "         [ 1.,  1.,  1.,  1.,  1.,  8.],\n",
       "         [ 0.,  0.,  0.,  0.,  0.,  8.],\n",
       "         [ 1.,  1.,  1.,  1.,  1.,  8.],\n",
       "         [ 1.,  1.,  1.,  1.,  1.,  8.],\n",
       "         [ 0.,  0.,  0.,  0.,  0.,  8.],\n",
       "         [ 1.,  1.,  1.,  1.,  1.,  8.],\n",
       "         [ 1.,  1.,  1.,  1.,  1.,  8.],\n",
       "         [ 1.,  1.,  1.,  1.,  1.,  8.],\n",
       "         [ 1.,  1.,  1.,  1.,  1.,  8.]],\n",
       "\n",
       "        [[ 1.,  1.,  1.,  1.,  1.,  8.],\n",
       "         [ 1.,  1.,  1.,  1.,  1.,  8.],\n",
       "         [ 0.,  0.,  0.,  0.,  0.,  8.],\n",
       "         [ 1.,  1.,  1.,  1.,  1.,  8.],\n",
       "         [ 1.,  1.,  1.,  1.,  1.,  8.],\n",
       "         [ 0.,  0.,  0.,  0.,  0.,  8.],\n",
       "         [ 1.,  1.,  1.,  1.,  1.,  8.],\n",
       "         [ 1.,  1.,  1.,  1.,  1.,  8.],\n",
       "         [ 1.,  1.,  1.,  1.,  1.,  8.],\n",
       "         [ 1.,  1.,  1.,  1.,  1.,  8.]],\n",
       "\n",
       "        [[ 1.,  1.,  1.,  1.,  1.,  5.],\n",
       "         [ 1.,  1.,  1.,  1.,  1.,  5.],\n",
       "         [ 0.,  0.,  0.,  0.,  0.,  5.],\n",
       "         [ 1.,  1.,  1.,  1.,  1.,  5.],\n",
       "         [ 0.,  0.,  0.,  0.,  0.,  5.],\n",
       "         [ 1.,  1.,  1.,  1.,  1.,  5.],\n",
       "         [ 0.,  0.,  0.,  0.,  0.,  5.],\n",
       "         [ 0.,  0.,  0.,  0.,  0.,  5.],\n",
       "         [ 0.,  0.,  0.,  0.,  0.,  5.],\n",
       "         [ 1.,  1.,  1.,  1.,  1.,  5.]]], device='cuda:0')"
      ]
     },
     "execution_count": 116,
     "metadata": {},
     "output_type": "execute_result"
    }
   ],
   "source": [
    "cc"
   ]
  },
  {
   "cell_type": "code",
   "execution_count": 85,
   "metadata": {},
   "outputs": [
    {
     "data": {
      "text/plain": [
       "torch.Size([4, 2, 1])"
      ]
     },
     "execution_count": 85,
     "metadata": {},
     "output_type": "execute_result"
    }
   ],
   "source": [
    "extr"
   ]
  },
  {
   "cell_type": "code",
   "execution_count": 108,
   "metadata": {},
   "outputs": [],
   "source": [
    "import torch\n",
    "\n",
    "from torch import nn\n",
    "from torch.autograd import Variable\n",
    "from torch.nn import functional as F\n",
    "\n",
    "batch_size = 32\n",
    "sample_size = 5\n",
    "hidden_dim = 256 \n",
    "\n",
    "a = Variable(torch.ones((batch_size, 1, 1)).cuda())\n",
    "p = 0.5 \n",
    "b = Variable(torch.bernoulli(p * torch.ones((batch_size,\n",
    "                                             sample_size - 1, 1)).cuda()))\n",
    "mask = torch.cat([a, b], 1)\n",
    "\n",
    "# zero out samples\n",
    "e = Variable(torch.ones(batch_size, sample_size, hidden_dim)).cuda()\n",
    "e = e * mask.expand_as(e)\n",
    "#print(e.shape)\n",
    "# take mean across sample dimension\n",
    "extra_feature = torch.sum(mask, 1)\n",
    "sm = torch.sum(e, 1)\n",
    "n_s = sm / extra_feature.expand_as((sm))\n",
    "n_s = n_s.unsqueeze(1)\n",
    "cc = torch.cat([e, n_s], 1)"
   ]
  },
  {
   "cell_type": "code",
   "execution_count": 111,
   "metadata": {},
   "outputs": [
    {
     "data": {
      "text/plain": [
       "torch.Size([32, 256])"
      ]
     },
     "execution_count": 111,
     "metadata": {},
     "output_type": "execute_result"
    }
   ],
   "source": [
    "e = e.mean(1)\n",
    "e.view(-1,hidden_dim).shape"
   ]
  },
  {
   "cell_type": "code",
   "execution_count": 93,
   "metadata": {},
   "outputs": [],
   "source": [
    "import argparse\n",
    "import os\n",
    "import time\n",
    "\n",
    "# from omnidata import OmniglotSetsDataset, load_mnist_test_batch\n",
    "# from omnimodel import Statistician\n",
    "# from omniplot import save_test_grid\n",
    "from torch import optim\n",
    "from torch.autograd import Variable\n",
    "from torch.nn import functional as F\n",
    "from torch.utils import data\n",
    "from tqdm import tqdm\n",
    "import torch"
   ]
  },
  {
   "cell_type": "code",
   "execution_count": 42,
   "metadata": {},
   "outputs": [],
   "source": [
    "cc = torch.cat([e, n_s], 1)"
   ]
  },
  {
   "cell_type": "code",
   "execution_count": 95,
   "metadata": {},
   "outputs": [],
   "source": [
    "mm = torch.load(\"outputdilate4/checkpoints/15-02-2019-03:43:01-400.m\")"
   ]
  },
  {
   "cell_type": "code",
   "execution_count": 107,
   "metadata": {},
   "outputs": [
    {
     "ename": "ModuleNotFoundError",
     "evalue": "No module named 'omnidata'",
     "output_type": "error",
     "traceback": [
      "\u001b[0;31m---------------------------------------------------------------------------\u001b[0m",
      "\u001b[0;31mModuleNotFoundError\u001b[0m                       Traceback (most recent call last)",
      "\u001b[0;32m<ipython-input-107-4c2320857b24>\u001b[0m in \u001b[0;36m<module>\u001b[0;34m\u001b[0m\n\u001b[1;32m      3\u001b[0m \u001b[0;32mimport\u001b[0m \u001b[0mtime\u001b[0m\u001b[0;34m\u001b[0m\u001b[0;34m\u001b[0m\u001b[0m\n\u001b[1;32m      4\u001b[0m \u001b[0;34m\u001b[0m\u001b[0m\n\u001b[0;32m----> 5\u001b[0;31m \u001b[0;32mfrom\u001b[0m \u001b[0momnidata\u001b[0m\u001b[0;34m.\u001b[0m\u001b[0momnidata\u001b[0m \u001b[0;32mimport\u001b[0m \u001b[0mOmniglotSetsDataset\u001b[0m\u001b[0;34m,\u001b[0m \u001b[0mload_mnist_test_batch\u001b[0m\u001b[0;34m\u001b[0m\u001b[0;34m\u001b[0m\u001b[0m\n\u001b[0m\u001b[1;32m      6\u001b[0m \u001b[0;32mfrom\u001b[0m \u001b[0momnimodel\u001b[0m \u001b[0;32mimport\u001b[0m \u001b[0mStatistician\u001b[0m\u001b[0;34m\u001b[0m\u001b[0;34m\u001b[0m\u001b[0m\n\u001b[1;32m      7\u001b[0m \u001b[0;32mfrom\u001b[0m \u001b[0momniplot\u001b[0m \u001b[0;32mimport\u001b[0m \u001b[0msave_test_grid\u001b[0m\u001b[0;34m\u001b[0m\u001b[0;34m\u001b[0m\u001b[0m\n",
      "\u001b[0;31mModuleNotFoundError\u001b[0m: No module named 'omnidata'"
     ]
    }
   ],
   "source": [
    "import argparse\n",
    "import os\n",
    "import time\n",
    "\n",
    "from omnidata import OmniglotSetsDataset, load_mnist_test_batch\n",
    "from omnimodel import Statistician\n",
    "from omniplot import save_test_grid\n",
    "from torch import optim\n",
    "from torch.autograd import Variable\n",
    "from torch.nn import functional as F\n",
    "from torch.utils import data\n",
    "from tqdm import tqdm"
   ]
  },
  {
   "cell_type": "code",
   "execution_count": 101,
   "metadata": {},
   "outputs": [
    {
     "ename": "NameError",
     "evalue": "name 'model' is not defined",
     "output_type": "error",
     "traceback": [
      "\u001b[0;31m---------------------------------------------------------------------------\u001b[0m",
      "\u001b[0;31mNameError\u001b[0m                                 Traceback (most recent call last)",
      "\u001b[0;32m<ipython-input-101-b191817b6e57>\u001b[0m in \u001b[0;36m<module>\u001b[0;34m\u001b[0m\n\u001b[0;32m----> 1\u001b[0;31m \u001b[0mmodel\u001b[0m\u001b[0;34m.\u001b[0m\u001b[0msample_conditioned\u001b[0m\u001b[0;34m\u001b[0m\u001b[0;34m\u001b[0m\u001b[0m\n\u001b[0m",
      "\u001b[0;31mNameError\u001b[0m: name 'model' is not defined"
     ]
    }
   ],
   "source": [
    "model.sample_conditioned"
   ]
  },
  {
   "cell_type": "code",
   "execution_count": 9,
   "metadata": {},
   "outputs": [],
   "source": [
    "e = e * mask.expand_as(e)"
   ]
  },
  {
   "cell_type": "code",
   "execution_count": 29,
   "metadata": {},
   "outputs": [
    {
     "data": {
      "text/plain": [
       "torch.Size([32, 5, 256])"
      ]
     },
     "execution_count": 29,
     "metadata": {},
     "output_type": "execute_result"
    }
   ],
   "source": [
    "e.shape"
   ]
  },
  {
   "cell_type": "code",
   "execution_count": 11,
   "metadata": {},
   "outputs": [
    {
     "data": {
      "text/plain": [
       "torch.Size([32, 1, 1])"
      ]
     },
     "execution_count": 11,
     "metadata": {},
     "output_type": "execute_result"
    }
   ],
   "source": [
    "a.shape"
   ]
  },
  {
   "cell_type": "code",
   "execution_count": 12,
   "metadata": {},
   "outputs": [
    {
     "data": {
      "text/plain": [
       "torch.Size([32, 4, 1])"
      ]
     },
     "execution_count": 12,
     "metadata": {},
     "output_type": "execute_result"
    }
   ],
   "source": [
    "b.shape"
   ]
  },
  {
   "cell_type": "code",
   "execution_count": 14,
   "metadata": {},
   "outputs": [
    {
     "data": {
      "text/plain": [
       "torch.Size([32, 5, 256])"
      ]
     },
     "execution_count": 14,
     "metadata": {},
     "output_type": "execute_result"
    }
   ],
   "source": [
    "mask.expand_as(e).shape"
   ]
  },
  {
   "cell_type": "code",
   "execution_count": 18,
   "metadata": {},
   "outputs": [
    {
     "ename": "RuntimeError",
     "evalue": "dimension out of range (expected to be in range of [-2, 1], but got 2)",
     "output_type": "error",
     "traceback": [
      "\u001b[0;31m---------------------------------------------------------------------------\u001b[0m",
      "\u001b[0;31mRuntimeError\u001b[0m                              Traceback (most recent call last)",
      "\u001b[0;32m<ipython-input-18-d49b393f1356>\u001b[0m in \u001b[0;36m<module>\u001b[0;34m\u001b[0m\n\u001b[0;32m----> 1\u001b[0;31m \u001b[0me\u001b[0m \u001b[0;34m=\u001b[0m \u001b[0mtorch\u001b[0m\u001b[0;34m.\u001b[0m\u001b[0mcat\u001b[0m\u001b[0;34m(\u001b[0m\u001b[0;34m[\u001b[0m\u001b[0me\u001b[0m\u001b[0;34m,\u001b[0m \u001b[0mextra_feature\u001b[0m\u001b[0;34m]\u001b[0m\u001b[0;34m,\u001b[0m \u001b[0;36m2\u001b[0m\u001b[0;34m)\u001b[0m\u001b[0;34m\u001b[0m\u001b[0;34m\u001b[0m\u001b[0m\n\u001b[0m",
      "\u001b[0;31mRuntimeError\u001b[0m: dimension out of range (expected to be in range of [-2, 1], but got 2)"
     ]
    }
   ],
   "source": [
    "e = torch.cat([e, extra_feature], 2)"
   ]
  },
  {
   "cell_type": "code",
   "execution_count": 19,
   "metadata": {},
   "outputs": [
    {
     "data": {
      "text/plain": [
       "torch.Size([32, 256])"
      ]
     },
     "execution_count": 19,
     "metadata": {},
     "output_type": "execute_result"
    }
   ],
   "source": [
    "e.shape"
   ]
  },
  {
   "cell_type": "code",
   "execution_count": 20,
   "metadata": {},
   "outputs": [
    {
     "data": {
      "text/plain": [
       "torch.Size([32, 1])"
      ]
     },
     "execution_count": 20,
     "metadata": {},
     "output_type": "execute_result"
    }
   ],
   "source": [
    "extra_feature.shape"
   ]
  },
  {
   "cell_type": "code",
   "execution_count": null,
   "metadata": {},
   "outputs": [],
   "source": []
  }
 ],
 "metadata": {
  "kernelspec": {
   "display_name": "Python 3",
   "language": "python",
   "name": "python3"
  },
  "language_info": {
   "codemirror_mode": {
    "name": "ipython",
    "version": 3
   },
   "file_extension": ".py",
   "mimetype": "text/x-python",
   "name": "python",
   "nbconvert_exporter": "python",
   "pygments_lexer": "ipython3",
   "version": "3.6.8"
  }
 },
 "nbformat": 4,
 "nbformat_minor": 2
}
