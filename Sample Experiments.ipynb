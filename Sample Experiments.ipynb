{
 "cells": [
  {
   "cell_type": "code",
   "execution_count": 2,
   "metadata": {},
   "outputs": [
    {
     "name": "stdout",
     "output_type": "stream",
     "text": [
      "VLB: -2.250:   0%|                                       | 0/50 [00:14<?, ?it/s]Traceback (most recent call last):\n",
      "  File \"synthetic/synthrun.py\", line 194, in <module>\n",
      "    main()\n",
      "  File \"synthetic/synthrun.py\", line 190, in main\n",
      "    run(model, optimizer, loaders, datasets)\n",
      "  File \"synthetic/synthrun.py\", line 109, in run\n",
      "    with torch.no_grad():\n",
      "NameError: name 'torch' is not defined\n",
      "\n"
     ]
    }
   ],
   "source": [
    "! python synthetic/synthrun.py --output-dir=output2\n"
   ]
  },
  {
   "cell_type": "code",
   "execution_count": null,
   "metadata": {},
   "outputs": [],
   "source": []
  }
 ],
 "metadata": {
  "kernelspec": {
   "display_name": "Python 3",
   "language": "python",
   "name": "python3"
  },
  "language_info": {
   "codemirror_mode": {
    "name": "ipython",
    "version": 3
   },
   "file_extension": ".py",
   "mimetype": "text/x-python",
   "name": "python",
   "nbconvert_exporter": "python",
   "pygments_lexer": "ipython3",
   "version": "3.7.0"
  }
 },
 "nbformat": 4,
 "nbformat_minor": 2
}
